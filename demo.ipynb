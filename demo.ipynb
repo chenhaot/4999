{
 "cells": [
  {
   "cell_type": "code",
   "execution_count": 15,
   "metadata": {},
   "outputs": [],
   "source": [
    "from revision_pipeline import pipeline\n",
    "from convokit import Corpus"
   ]
  },
  {
   "cell_type": "code",
   "execution_count": 19,
   "metadata": {},
   "outputs": [],
   "source": [
    "def get_corpus_leaf_ids(c: Corpus) -> set:\n",
    "    leaves = set()\n",
    "    not_leaves = set()\n",
    "    for utt in c.iter_utterances():\n",
    "        if utt.id not in not_leaves:\n",
    "            leaves.add(utt.id)\n",
    "        if utt.reply_to in leaves:\n",
    "            leaves.remove(utt.reply_to)\n",
    "        not_leaves.add(utt.reply_to)\n",
    "    return leaves\n",
    "\n",
    "\n",
    "def print_corpus(c: Corpus) -> None:\n",
    "    leaves = get_corpus_leaf_ids(c)\n",
    "\n",
    "    for leaf_id in leaves:\n",
    "        utt = c.get_utterance(leaf_id)\n",
    "        chain = [utt]\n",
    "        while utt.reply_to:\n",
    "            utt = c.get_utterance(utt.reply_to)\n",
    "            chain.append(utt)\n",
    "\n",
    "        depth = \"\"\n",
    "        print(\"this conversation is\", len(chain), \"utterances long.\")\n",
    "        for utterance in reversed(chain):\n",
    "            print(depth + utterance.text.replace(\"\\n\", \" \")[:50])\n",
    "            depth += \"--> \"\n",
    "        print(\"\\n\")"
   ]
  },
  {
   "cell_type": "code",
   "execution_count": 23,
   "metadata": {
    "scrolled": false
   },
   "outputs": [
    {
     "name": "stdout",
     "output_type": "stream",
     "text": [
      "generating Star_Trek talk page intermediate from scratch...\n"
     ]
    },
    {
     "name": "stderr",
     "output_type": "stream",
     "text": [
      " 96%|█████████▌| 1718/1793 [09:30<00:22,  3.32it/s]"
     ]
    },
    {
     "name": "stdout",
     "output_type": "stream",
     "text": [
      "deleting this guy!! eb14d894bab53eb1042fc8c87e7cda02\n"
     ]
    },
    {
     "name": "stderr",
     "output_type": "stream",
     "text": [
      "\r",
      " 96%|█████████▌| 1719/1793 [09:30<00:22,  3.29it/s]"
     ]
    },
    {
     "name": "stdout",
     "output_type": "stream",
     "text": [
      "this was the text! {{sourcecheck|checked=false|needhelp=}}\n",
      "this was the block! -----------------------------\n",
      "text: {{sourcecheck|checked=false|needhelp=}}\n",
      "timestamp: 2018-01-29T17:43:29Z\n",
      "user: InternetArchiveBot\n",
      "ingested: True\n",
      "revision_ids: [822989456]\n",
      "reply_chain: ['e0539327ab8671537823c95c5bda6a0d', 'ec6b0845bd391623a7ec8e93e15484e3', '28c8a9a0d49c6b6fb22ebbb003e56f9c', '576f974d151876bbb4c28f7730779d4c', '91e242f382456e512b0689e84a9071f4', 'eb14d894bab53eb1042fc8c87e7cda02']\n",
      "is_followed: True\n",
      "-----------------------------\n"
     ]
    },
    {
     "name": "stderr",
     "output_type": "stream",
     "text": [
      " 97%|█████████▋| 1740/1793 [09:36<00:15,  3.53it/s]"
     ]
    },
    {
     "name": "stdout",
     "output_type": "stream",
     "text": [
      "deleting this guy!! eb14d894bab53eb1042fc8c87e7cda02\n"
     ]
    },
    {
     "name": "stderr",
     "output_type": "stream",
     "text": [
      "\r",
      " 97%|█████████▋| 1741/1793 [09:37<00:15,  3.35it/s]"
     ]
    },
    {
     "name": "stdout",
     "output_type": "stream",
     "text": [
      "this was the text! {{sourcecheck|checked=false|needhelp=}}\n"
     ]
    },
    {
     "name": "stderr",
     "output_type": "stream",
     "text": [
      "100%|█████████▉| 1792/1793 [09:52<00:00,  3.03it/s]"
     ]
    },
    {
     "name": "stdout",
     "output_type": "stream",
     "text": [
      "intermediate generated.\n",
      "intermediate written to disk at  ./intermediate_format/Star_Trek.json\n",
      "generating corpus...\n",
      "corpus generated.\n",
      "this conversation is 1 utterances long.\n",
      "{{WikiProject United States |class=GA |importance=\n",
      "\n",
      "\n",
      "this conversation is 1 utterances long.\n",
      "==Re-opening this discussion: Cleanup too soon/fas\n",
      "\n",
      "\n",
      "this conversation is 1 utterances long.\n",
      "|algo = old(30d)\n",
      "\n",
      "\n",
      "this conversation is 4 utterances long.\n",
      "{{Refideas\n",
      "--> |1={{Cite web|last=Eller|first=Claudia|url=http://\n",
      "--> --> }}\n",
      "--> --> --> {{Auto archiving notice}}\n",
      "\n",
      "\n",
      "this conversation is 1 utterances long.\n",
      "{{User:MiszaBot/config |archive = Talk:Star Trek/A\n",
      "\n",
      "\n",
      "this conversation is 11 utterances long.\n",
      "{{Talk header|search=yes}}\n",
      "--> {{ArticleHistory |action1=RBP |action1date=10:24, \n",
      "--> --> |action1link=Wikipedia:Archive/Refreshing brillian\n",
      "--> --> --> |action1result=kept |action1oldid=2189970 |action2\n",
      "--> --> --> --> |action3link=Wikipedia:Articles for deletion/Star \n",
      "--> --> --> --> --> |action3result=kept |action3oldid=57162750 |action\n",
      "--> --> --> --> --> --> |action4link=Talk:Star Trek/Archive 2#Failed GA\n",
      "--> --> --> --> --> --> --> |action4result=failed |action4oldid=59279859 |acti\n",
      "--> --> --> --> --> --> --> --> |action7link=Talk:Star Trek/Archive 6#GA Review\n",
      "--> --> --> --> --> --> --> --> --> |action7result=Failed |action7oldid=165281874\n",
      "--> --> --> --> --> --> --> --> --> --> |currentstatus=GA\n",
      "\n",
      "\n",
      "this conversation is 4 utterances long.\n",
      "{{Refideas\n",
      "--> |1={{Cite web|last=Eller|first=Claudia|url=http://\n",
      "--> --> }}\n",
      "--> --> --> {{WikiProjectBannerShell|1=\n",
      "\n",
      "\n",
      "this conversation is 1 utterances long.\n",
      "{{WP1.0 |v0.7=pass |category=Arts |class=GA |impor\n",
      "\n",
      "\n",
      "this conversation is 1 utterances long.\n",
      "|otd1date=2012-09-08 |otd1oldid=511192795\n",
      "\n",
      "\n",
      "this conversation is 2 utterances long.\n",
      "===''Star Trek'' Universe===   Recently (over the \n",
      "--> :::: We'll see how the term is utilized in the com\n",
      "\n",
      "\n",
      "this conversation is 1 utterances long.\n",
      "|topic= television\n",
      "\n",
      "\n",
      "this conversation is 1 utterances long.\n",
      "So: consistent with similar posts (and similar dis\n",
      "\n",
      "\n",
      "this conversation is 1 utterances long.\n",
      "|archive = Talk:Star Trek/Archive %(counter)d\n",
      "\n",
      "\n",
      "this conversation is 1 utterances long.\n",
      "|maindate=May 22, 2004\n",
      "\n",
      "\n",
      "this conversation is 1 utterances long.\n",
      "{{Vital article|level=4|topic=Society|class=GA}}\n",
      "\n",
      "\n",
      "this conversation is 1 utterances long.\n",
      "|action9=GAN |action9date= 22:01, 11 September 201\n",
      "\n",
      "\n",
      "this conversation is 4 utterances long.\n",
      "===''Star Trek'' Universe===   Recently (over the \n",
      "--> ::: Deleting what? Shutting down what? [[User:Rdzo\n",
      "--> --> :::: Thanks for editing the autoarchiving. [[User:\n",
      "--> --> --> ::::: No problem. Figured that was part of it [[Us\n",
      "\n",
      "\n",
      "this conversation is 1 utterances long.\n",
      "|counter = 9 |maxarchivesize = 150K |archiveheader\n",
      "\n",
      "\n",
      "this conversation is 1 utterances long.\n",
      "| style=\"text-align:center;\" rowspan=\"6\" |  ''The \n",
      "\n",
      "\n",
      "this conversation is 1 utterances long.\n",
      "{{Skip to TOC}}\n",
      "\n",
      "\n",
      "this conversation is 1 utterances long.\n",
      "|action8=PR |action8date=19:23, 12 July 2009 |acti\n",
      "\n",
      "\n"
     ]
    },
    {
     "name": "stderr",
     "output_type": "stream",
     "text": [
      "\n"
     ]
    }
   ],
   "source": [
    "corp = pipeline.get_corpus(\"Star_Trek\", write_intermediate_to_disk=True)\n",
    "print_corpus(corp)"
   ]
  },
  {
   "cell_type": "code",
   "execution_count": null,
   "metadata": {},
   "outputs": [],
   "source": []
  }
 ],
 "metadata": {
  "kernelspec": {
   "display_name": "Python 3",
   "language": "python",
   "name": "python3"
  },
  "language_info": {
   "codemirror_mode": {
    "name": "ipython",
    "version": 3
   },
   "file_extension": ".py",
   "mimetype": "text/x-python",
   "name": "python",
   "nbconvert_exporter": "python",
   "pygments_lexer": "ipython3",
   "version": "3.7.4"
  }
 },
 "nbformat": 4,
 "nbformat_minor": 2
}
